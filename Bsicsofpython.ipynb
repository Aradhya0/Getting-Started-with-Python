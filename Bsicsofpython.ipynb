{
 "cells": [
  {
   "cell_type": "code",
   "execution_count": 1,
   "id": "16ec817a",
   "metadata": {},
   "outputs": [
    {
     "ename": "NameError",
     "evalue": "name 'printf' is not defined",
     "output_type": "error",
     "traceback": [
      "\u001b[0;31m---------------------------------------------------------------------------\u001b[0m",
      "\u001b[0;31mNameError\u001b[0m                                 Traceback (most recent call last)",
      "Cell \u001b[0;32mIn[1], line 1\u001b[0m\n\u001b[0;32m----> 1\u001b[0m \u001b[43mprintf\u001b[49m (aradhya)\n",
      "\u001b[0;31mNameError\u001b[0m: name 'printf' is not defined"
     ]
    }
   ],
   "source": [
    "printf (aradhya)"
   ]
  },
  {
   "cell_type": "code",
   "execution_count": 2,
   "id": "005721a9",
   "metadata": {},
   "outputs": [
    {
     "ename": "NameError",
     "evalue": "name 'aradhya' is not defined",
     "output_type": "error",
     "traceback": [
      "\u001b[0;31m---------------------------------------------------------------------------\u001b[0m",
      "\u001b[0;31mNameError\u001b[0m                                 Traceback (most recent call last)",
      "Cell \u001b[0;32mIn[2], line 1\u001b[0m\n\u001b[0;32m----> 1\u001b[0m \u001b[38;5;28mprint\u001b[39m (\u001b[43maradhya\u001b[49m)\n",
      "\u001b[0;31mNameError\u001b[0m: name 'aradhya' is not defined"
     ]
    }
   ],
   "source": [
    "print (aradhya)"
   ]
  },
  {
   "cell_type": "code",
   "execution_count": 3,
   "id": "529a37f0",
   "metadata": {},
   "outputs": [
    {
     "ename": "SyntaxError",
     "evalue": "Missing parentheses in call to 'print'. Did you mean print(...)? (4008401658.py, line 1)",
     "output_type": "error",
     "traceback": [
      "\u001b[0;36m  Cell \u001b[0;32mIn[3], line 1\u001b[0;36m\u001b[0m\n\u001b[0;31m    print aradhya\u001b[0m\n\u001b[0m    ^\u001b[0m\n\u001b[0;31mSyntaxError\u001b[0m\u001b[0;31m:\u001b[0m Missing parentheses in call to 'print'. Did you mean print(...)?\n"
     ]
    }
   ],
   "source": [
    "print aradhya"
   ]
  },
  {
   "cell_type": "code",
   "execution_count": 4,
   "id": "17757a0b",
   "metadata": {},
   "outputs": [
    {
     "name": "stdout",
     "output_type": "stream",
     "text": [
      "aradhya\n"
     ]
    }
   ],
   "source": [
    "print (\"aradhya\")"
   ]
  },
  {
   "cell_type": "code",
   "execution_count": 5,
   "id": "784ba515",
   "metadata": {},
   "outputs": [
    {
     "name": "stdout",
     "output_type": "stream",
     "text": [
      "s1 + s2\n"
     ]
    }
   ],
   "source": [
    "s1 = \"hello\"\n",
    "s2 = \"moto\"\n",
    "print ('s1 + s2')"
   ]
  },
  {
   "cell_type": "code",
   "execution_count": 6,
   "id": "36868968",
   "metadata": {},
   "outputs": [
    {
     "name": "stdout",
     "output_type": "stream",
     "text": [
      "hellomoto\n"
     ]
    }
   ],
   "source": [
    "s1 = \"hello\"\n",
    "s2 = \"moto\"\n",
    "print (s1 + s2)"
   ]
  },
  {
   "cell_type": "code",
   "execution_count": 7,
   "id": "d612c7b0",
   "metadata": {},
   "outputs": [
    {
     "name": "stdout",
     "output_type": "stream",
     "text": [
      "hellomoto\n"
     ]
    }
   ],
   "source": [
    "s1 = \"hello\"\n",
    "s2 = \"moto\"\n",
    "print (s1  + s2)"
   ]
  },
  {
   "cell_type": "code",
   "execution_count": 8,
   "id": "83084e71",
   "metadata": {},
   "outputs": [
    {
     "ename": "SyntaxError",
     "evalue": "invalid syntax (1089733748.py, line 1)",
     "output_type": "error",
     "traceback": [
      "\u001b[0;36m  Cell \u001b[0;32mIn[8], line 1\u001b[0;36m\u001b[0m\n\u001b[0;31m    split_string \"My name is \\n Aradhya \\n Kumar\"\u001b[0m\n\u001b[0m                 ^\u001b[0m\n\u001b[0;31mSyntaxError\u001b[0m\u001b[0;31m:\u001b[0m invalid syntax\n"
     ]
    }
   ],
   "source": [
    "split_string \"My name is \\n Aradhya \\n Kumar\"\n",
    "print (split_string)"
   ]
  },
  {
   "cell_type": "code",
   "execution_count": 9,
   "id": "30345988",
   "metadata": {},
   "outputs": [
    {
     "name": "stdout",
     "output_type": "stream",
     "text": [
      "My name is \n",
      " Aradhya \n",
      " Kumar\n"
     ]
    }
   ],
   "source": [
    "split_string =\"My name is \\n Aradhya \\n Kumar\"\n",
    "print (split_string)"
   ]
  },
  {
   "cell_type": "code",
   "execution_count": 10,
   "id": "eac93ef6",
   "metadata": {},
   "outputs": [
    {
     "name": "stdout",
     "output_type": "stream",
     "text": [
      "My name is \\ Aradhya \\ Kumar\n"
     ]
    }
   ],
   "source": [
    "split_string =\"My name is \\ Aradhya \\ Kumar\"\n",
    "print (split_string)"
   ]
  },
  {
   "cell_type": "code",
   "execution_count": 14,
   "id": "7694c8e2",
   "metadata": {},
   "outputs": [
    {
     "name": "stdout",
     "output_type": "stream",
     "text": [
      "My name is \t Aradhya \t Kumar\n"
     ]
    }
   ],
   "source": [
    "split_string =\"My name is \\t Aradhya \\t Kumar\"\n",
    "print (split_string)"
   ]
  },
  {
   "cell_type": "code",
   "execution_count": 12,
   "id": "507b9cc5",
   "metadata": {},
   "outputs": [
    {
     "name": "stdout",
     "output_type": "stream",
     "text": [
      "<class 'int'>\n",
      "<class 'str'>\n"
     ]
    }
   ],
   "source": [
    "age=35\n",
    "greetings=\"hello\"\n",
    "print(type(age))\n",
    "print(type(greetings))"
   ]
  },
  {
   "cell_type": "code",
   "execution_count": 13,
   "id": "9dd4d926",
   "metadata": {},
   "outputs": [
    {
     "name": "stdout",
     "output_type": "stream",
     "text": [
      "17\n"
     ]
    }
   ],
   "source": [
    "a=12\n",
    "b=5\n",
    "print(a+b)"
   ]
  },
  {
   "cell_type": "code",
   "execution_count": 15,
   "id": "0553ea1a",
   "metadata": {},
   "outputs": [
    {
     "name": "stdout",
     "output_type": "stream",
     "text": [
      "17\n"
     ]
    }
   ],
   "source": [
    "a=12\n",
    "b=5\n",
    "c=a+b\n",
    "print(c)"
   ]
  },
  {
   "cell_type": "code",
   "execution_count": 16,
   "id": "951ce421",
   "metadata": {},
   "outputs": [
    {
     "ename": "TypeError",
     "evalue": "'c' is an invalid keyword argument for print()",
     "output_type": "error",
     "traceback": [
      "\u001b[0;31m---------------------------------------------------------------------------\u001b[0m",
      "\u001b[0;31mTypeError\u001b[0m                                 Traceback (most recent call last)",
      "Cell \u001b[0;32mIn[16], line 4\u001b[0m\n\u001b[1;32m      2\u001b[0m b\u001b[38;5;241m=\u001b[39m\u001b[38;5;241m5\u001b[39m\n\u001b[1;32m      3\u001b[0m c\u001b[38;5;241m=\u001b[39ma\u001b[38;5;241m+\u001b[39mb\n\u001b[0;32m----> 4\u001b[0m \u001b[38;5;28;43mprint\u001b[39;49m\u001b[43m(\u001b[49m\u001b[43mc\u001b[49m\u001b[43m \u001b[49m\u001b[38;5;241;43m=\u001b[39;49m\u001b[43m \u001b[49m\u001b[43ma\u001b[49m\u001b[38;5;241;43m+\u001b[39;49m\u001b[43mb\u001b[49m\u001b[43m)\u001b[49m\n",
      "\u001b[0;31mTypeError\u001b[0m: 'c' is an invalid keyword argument for print()"
     ]
    }
   ],
   "source": [
    "a=12\n",
    "b=5\n",
    "c=a+b\n",
    "print(c = a+b)"
   ]
  },
  {
   "cell_type": "code",
   "execution_count": 17,
   "id": "a98f1a7e",
   "metadata": {},
   "outputs": [
    {
     "ename": "SyntaxError",
     "evalue": "invalid syntax (2091668350.py, line 3)",
     "output_type": "error",
     "traceback": [
      "\u001b[0;36m  Cell \u001b[0;32mIn[17], line 3\u001b[0;36m\u001b[0m\n\u001b[0;31m    var c\u001b[0m\n\u001b[0m        ^\u001b[0m\n\u001b[0;31mSyntaxError\u001b[0m\u001b[0;31m:\u001b[0m invalid syntax\n"
     ]
    }
   ],
   "source": [
    "a=12\n",
    "b=5\n",
    "var c\n",
    "print(\"c\"= a+b)"
   ]
  },
  {
   "cell_type": "code",
   "execution_count": 18,
   "id": "85df89a6",
   "metadata": {},
   "outputs": [
    {
     "ename": "SyntaxError",
     "evalue": "invalid syntax. Perhaps you forgot a comma? (279361060.py, line 3)",
     "output_type": "error",
     "traceback": [
      "\u001b[0;36m  Cell \u001b[0;32mIn[18], line 3\u001b[0;36m\u001b[0m\n\u001b[0;31m    print ('c='a+b)\u001b[0m\n\u001b[0m           ^\u001b[0m\n\u001b[0;31mSyntaxError\u001b[0m\u001b[0;31m:\u001b[0m invalid syntax. Perhaps you forgot a comma?\n"
     ]
    }
   ],
   "source": [
    "a=12\n",
    "b=5\n",
    "print ('c='a+b)"
   ]
  },
  {
   "cell_type": "code",
   "execution_count": 19,
   "id": "183546ee",
   "metadata": {},
   "outputs": [
    {
     "ename": "SyntaxError",
     "evalue": "invalid syntax. Perhaps you forgot a comma? (3622205499.py, line 3)",
     "output_type": "error",
     "traceback": [
      "\u001b[0;36m  Cell \u001b[0;32mIn[19], line 3\u001b[0;36m\u001b[0m\n\u001b[0;31m    print ('c ='a+b)\u001b[0m\n\u001b[0m           ^\u001b[0m\n\u001b[0;31mSyntaxError\u001b[0m\u001b[0;31m:\u001b[0m invalid syntax. Perhaps you forgot a comma?\n"
     ]
    }
   ],
   "source": [
    "a=12\n",
    "b=5\n",
    "print ('c ='a+b)"
   ]
  },
  {
   "cell_type": "code",
   "execution_count": 20,
   "id": "29689170",
   "metadata": {},
   "outputs": [
    {
     "name": "stdout",
     "output_type": "stream",
     "text": [
      "c = 17\n"
     ]
    }
   ],
   "source": [
    "a=12\n",
    "b=5\n",
    "print ('c =',a+b)"
   ]
  },
  {
   "cell_type": "code",
   "execution_count": 21,
   "id": "f10d0575",
   "metadata": {},
   "outputs": [
    {
     "name": "stdout",
     "output_type": "stream",
     "text": [
      "23.25\n"
     ]
    }
   ],
   "source": [
    "a=12\n",
    "b=5\n",
    "print((a+b)/4*5+6-4)"
   ]
  },
  {
   "cell_type": "code",
   "execution_count": 26,
   "id": "86f990cb",
   "metadata": {},
   "outputs": [
    {
     "name": "stdout",
     "output_type": "stream",
     "text": [
      "p\n",
      "t\n",
      "o\n",
      " \n",
      "a\n",
      " \n",
      "o\n",
      " \n",
      "t\n",
      "6\n"
     ]
    }
   ],
   "source": [
    "s=\"python lab for it-6\"\n",
    "for x in range(len(s)):\n",
    "    if(x%2==0):\n",
    "       print(s[x])"
   ]
  },
  {
   "cell_type": "code",
   "execution_count": 27,
   "id": "53fe8450",
   "metadata": {},
   "outputs": [
    {
     "name": "stdout",
     "output_type": "stream",
     "text": [
      "pto a o t6"
     ]
    }
   ],
   "source": [
    "s=\"python lab for it-6\"\n",
    "for x in range(0,len(s),2):\n",
    "    print(s[x],end=\"\")\n",
    "    "
   ]
  },
  {
   "cell_type": "code",
   "execution_count": 28,
   "id": "fabe8678",
   "metadata": {},
   "outputs": [
    {
     "name": "stdout",
     "output_type": "stream",
     "text": [
      "enter a number: 22\n",
      "The sum is:  253\n"
     ]
    }
   ],
   "source": [
    "n = int(input(\"enter a number: \"))\n",
    "i = 1\n",
    "sum = 0\n",
    "while (i <= n):\n",
    "    sum = sum + i\n",
    "    i = i + 1\n",
    "print(\"The sum is: \", sum)"
   ]
  },
  {
   "cell_type": "code",
   "execution_count": 29,
   "id": "dbd7d463",
   "metadata": {},
   "outputs": [
    {
     "name": "stdout",
     "output_type": "stream",
     "text": [
      "enter a number: 16\n",
      "The sum is:  136\n"
     ]
    }
   ],
   "source": [
    "n = int(input(\"enter a number: \"))\n",
    "i = 1\n",
    "sum = 0\n",
    "while (i <= n):\n",
    "    sum = sum + i\n",
    "    i = i + 1\n",
    "print(\"The sum is: \", sum)\n"
   ]
  },
  {
   "cell_type": "code",
   "execution_count": 31,
   "id": "38671179",
   "metadata": {},
   "outputs": [
    {
     "name": "stdout",
     "output_type": "stream",
     "text": [
      "Enter value of n: 4\n",
      "Total sum is:  10\n"
     ]
    }
   ],
   "source": [
    "n = input(\"Enter value of n: \")\n",
    "try:\n",
    "    n = int(n)\n",
    "    total_sum = 0\n",
    "    # sum of n numbers in python using for loop\n",
    "    for i in range(1, n+1):\n",
    "        total_sum = total_sum + i\n",
    "    print(\"Total sum is: \", total_sum)\n",
    "except:\n",
    "    print(\"Please enter a natural number\")"
   ]
  },
  {
   "cell_type": "code",
   "execution_count": 32,
   "id": "6be15115",
   "metadata": {},
   "outputs": [
    {
     "name": "stdout",
     "output_type": "stream",
     "text": [
      "enter num : 2\n",
      "2\n"
     ]
    }
   ],
   "source": [
    "num=int(input(\"enter num : \"))\n",
    "print(num%100)"
   ]
  },
  {
   "cell_type": "code",
   "execution_count": 33,
   "id": "caa8c4b6",
   "metadata": {},
   "outputs": [
    {
     "name": "stdout",
     "output_type": "stream",
     "text": [
      "681012141618"
     ]
    }
   ],
   "source": [
    "for i in range(6,20,2):\n",
    "    print(i,end=\"\")"
   ]
  },
  {
   "cell_type": "code",
   "execution_count": 34,
   "id": "22e8c9c5",
   "metadata": {},
   "outputs": [
    {
     "name": "stdout",
     "output_type": "stream",
     "text": [
      "6  8  10  12  14  16  18  "
     ]
    }
   ],
   "source": [
    "for i in range(6,20,2):\n",
    "    print(i,end=\"  \")"
   ]
  },
  {
   "cell_type": "code",
   "execution_count": 37,
   "id": "cbbb0fbd",
   "metadata": {},
   "outputs": [
    {
     "name": "stdout",
     "output_type": "stream",
     "text": [
      "6  11  16  "
     ]
    }
   ],
   "source": [
    "for i in range(6,20,5):\n",
    "    print(i,end=\"  \")\n",
    "    #range of 6 to 20 with a gap of 5"
   ]
  },
  {
   "cell_type": "code",
   "execution_count": 38,
   "id": "d0cb1243",
   "metadata": {},
   "outputs": [
    {
     "name": "stdout",
     "output_type": "stream",
     "text": [
      "0 \t 10\n",
      "0 \t 11\n",
      "0 \t 12\n",
      "0 \t 13\n",
      "0 \t 14\n",
      "1 \t 11\n",
      "1 \t 12\n",
      "1 \t 13\n",
      "1 \t 14\n",
      "2 \t 12\n",
      "2 \t 13\n",
      "2 \t 14\n",
      "3 \t 13\n",
      "3 \t 14\n",
      "4 \t 14\n"
     ]
    }
   ],
   "source": [
    "for i in range(5):\n",
    "    for j in range(i,5):\n",
    "        print(i,\"\\t\",j+10)"
   ]
  },
  {
   "cell_type": "code",
   "execution_count": null,
   "id": "798fa6f6",
   "metadata": {},
   "outputs": [],
   "source": []
  }
 ],
 "metadata": {
  "kernelspec": {
   "display_name": "Python 3 (ipykernel)",
   "language": "python",
   "name": "python3"
  },
  "language_info": {
   "codemirror_mode": {
    "name": "ipython",
    "version": 3
   },
   "file_extension": ".py",
   "mimetype": "text/x-python",
   "name": "python",
   "nbconvert_exporter": "python",
   "pygments_lexer": "ipython3",
   "version": "3.10.8"
  }
 },
 "nbformat": 4,
 "nbformat_minor": 5
}
