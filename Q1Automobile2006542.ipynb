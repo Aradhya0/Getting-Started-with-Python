{
  "cells": [
    {
      "cell_type": "markdown",
      "id": "4bfbf9a1",
      "metadata": {
        "id": "4bfbf9a1"
      },
      "source": [
        "## Name: Aradhya Kumar\n",
        "## Roll: 2006542\n",
        "## TT Lab Sessional\n",
        "## 24 April 2023"
      ]
    },
    {
      "cell_type": "code",
      "execution_count": 1,
      "id": "2940e409",
      "metadata": {
        "id": "2940e409"
      },
      "outputs": [],
      "source": [
        "import numpy as np\n",
        "import pandas as pd\n",
        "import matplotlib.pyplot as plt\n",
        "import seaborn"
      ]
    },
    {
      "cell_type": "code",
      "execution_count": 6,
      "id": "e69d12b6",
      "metadata": {
        "id": "e69d12b6"
      },
      "outputs": [],
      "source": [
        "df_automobile = pd.read_csv('Automobile_data.csv')\n"
      ]
    },
    {
      "cell_type": "code",
      "execution_count": 7,
      "id": "b58bd1c6",
      "metadata": {
        "colab": {
          "base_uri": "https://localhost:8080/"
        },
        "id": "b58bd1c6",
        "outputId": "1d7204e3-c13c-458f-eaa5-36b04a4833e6"
      },
      "outputs": [
        {
          "output_type": "execute_result",
          "data": {
            "text/plain": [
              "symboling             0\n",
              "normalized-losses    41\n",
              "make                  0\n",
              "fuel-type             0\n",
              "aspiration            0\n",
              "num-of-doors          2\n",
              "body-style            0\n",
              "drive-wheels          0\n",
              "engine-location       0\n",
              "wheel-base            0\n",
              "length                0\n",
              "width                 0\n",
              "height                0\n",
              "curb-weight           0\n",
              "engine-type           0\n",
              "num-of-cylinders      0\n",
              "engine-size           0\n",
              "fuel-system           0\n",
              "bore                  4\n",
              "stroke                4\n",
              "compression-ratio     0\n",
              "horsepower            2\n",
              "peak-rpm              2\n",
              "city-mpg              0\n",
              "highway-mpg           0\n",
              "price                 4\n",
              "dtype: int64"
            ]
          },
          "metadata": {},
          "execution_count": 7
        }
      ],
      "source": [
        "# handling missing values\n",
        "df_data = df_automobile.replace('?',np.NAN) \n",
        "df_data.isnull().sum()"
      ]
    },
    {
      "cell_type": "code",
      "execution_count": 8,
      "id": "1d994312",
      "metadata": {
        "id": "1d994312"
      },
      "outputs": [],
      "source": [
        "df_temp = df_automobile[df_automobile['price']!='?']\n",
        "normalised_mean = df_temp['price'].astype(int).mean()\n",
        "df_automobile['price'] = df_automobile['price'].replace('?',normalised_mean).astype(int)\n"
      ]
    },
    {
      "cell_type": "code",
      "execution_count": 9,
      "id": "8bafaa74",
      "metadata": {
        "colab": {
          "base_uri": "https://localhost:8080/"
        },
        "id": "8bafaa74",
        "outputId": "1f2c31c9-c118-4e9c-e8de-4ee7e233a364"
      },
      "outputs": [
        {
          "output_type": "stream",
          "name": "stdout",
          "text": [
            "16500\n",
            "16500\n",
            "13950\n",
            "17450\n",
            "15250\n",
            "17710\n",
            "18920\n",
            "23875\n",
            "13207\n",
            "16430\n",
            "16925\n",
            "20970\n",
            "21105\n",
            "24565\n",
            "30760\n",
            "41315\n",
            "36880\n",
            "5151\n",
            "6295\n",
            "6575\n",
            "5572\n",
            "6377\n",
            "7957\n",
            "6229\n",
            "6692\n",
            "7609\n",
            "8558\n",
            "8921\n",
            "12964\n",
            "6479\n",
            "6855\n",
            "5399\n",
            "6529\n",
            "7129\n",
            "7295\n",
            "7295\n",
            "7895\n",
            "9095\n",
            "8845\n"
          ]
        }
      ],
      "source": [
        "for i in range(1,40):\n",
        "    print(df_automobile['price'][i])"
      ]
    },
    {
      "cell_type": "code",
      "execution_count": 10,
      "id": "4a437980",
      "metadata": {
        "colab": {
          "base_uri": "https://localhost:8080/"
        },
        "id": "4a437980",
        "outputId": "b9f4f252-ea8a-425e-a561-21e2d652db3f"
      },
      "outputs": [
        {
          "output_type": "execute_result",
          "data": {
            "text/plain": [
              "array([13495, 16500, 16500, 13950, 17450, 15250, 17710, 18920, 23875,\n",
              "       13207, 16430, 16925, 20970, 21105, 24565, 30760, 41315, 36880,\n",
              "        5151,  6295,  6575,  5572,  6377,  7957,  6229,  6692,  7609,\n",
              "        8558,  8921, 12964,  6479,  6855,  5399,  6529,  7129,  7295,\n",
              "        7295,  7895,  9095,  8845, 10295, 12945, 10345,  6785, 13207,\n",
              "       13207, 11048, 32250, 35550, 36000,  5195,  6095,  6795,  6695,\n",
              "        7395, 10945, 11845, 13645, 15645,  8845,  8495, 10595, 10245,\n",
              "       10795, 11245, 18280, 18344, 25552, 28248, 28176, 31600, 34184,\n",
              "       35056, 40960, 45400, 16503,  5389,  6189,  6669,  7689,  9959,\n",
              "        8499, 12629, 14869, 14489,  6989,  8189,  9279,  9279,  5499,\n",
              "        7099,  6649,  6849,  7349,  7299,  7799,  7499,  7999,  8249,\n",
              "        8949,  9549, 13499, 14399, 13499, 17199, 19699, 18399, 11900,\n",
              "       13200, 12440, 13860, 15580, 16900, 16695, 17075, 16630, 17950,\n",
              "       18150,  5572,  7957,  6229,  6692,  7609,  8921, 12764, 22018,\n",
              "       32528, 34028, 37028, 13207,  9295,  9895, 11850, 12170, 15040,\n",
              "       15510, 18150, 18620,  5118,  7053,  7603,  7126,  7775,  9960,\n",
              "        9233, 11259,  7463, 10198,  8013, 11694,  5348,  6338,  6488,\n",
              "        6918,  7898,  8778,  6938,  7198,  7898,  7788,  7738,  8358,\n",
              "        9258,  8058,  8238,  9298,  9538,  8449,  9639,  9989, 11199,\n",
              "       11549, 17669,  8948, 10698,  9988, 10898, 11248, 16558, 15998,\n",
              "       15690, 15750,  7775,  7975,  7995,  8195,  8495,  9495,  9995,\n",
              "       11595,  9980, 13295, 13845, 12290, 12940, 13415, 15985, 16515,\n",
              "       18420, 18950, 16845, 19045, 21485, 22470, 22625])"
            ]
          },
          "metadata": {},
          "execution_count": 10
        }
      ],
      "source": [
        "newArray = df_automobile['price'].to_numpy()\n",
        "newArray"
      ]
    },
    {
      "cell_type": "code",
      "execution_count": 11,
      "id": "deb38563",
      "metadata": {
        "colab": {
          "base_uri": "https://localhost:8080/"
        },
        "id": "deb38563",
        "outputId": "f796851d-746a-496b-89ed-9876aeb3814a"
      },
      "outputs": [
        {
          "output_type": "execute_result",
          "data": {
            "text/plain": [
              "13207.126829268293"
            ]
          },
          "metadata": {},
          "execution_count": 11
        }
      ],
      "source": [
        "#Finding average\n",
        "\n",
        "avg = np.average(newArray)\n",
        "avg\n"
      ]
    },
    {
      "cell_type": "code",
      "execution_count": 12,
      "id": "a0b0c8b9",
      "metadata": {
        "colab": {
          "base_uri": "https://localhost:8080/"
        },
        "id": "a0b0c8b9",
        "outputId": "2f7b756a-cafa-4988-a867-3474e07db50a"
      },
      "outputs": [
        {
          "output_type": "execute_result",
          "data": {
            "text/plain": [
              "5118"
            ]
          },
          "metadata": {},
          "execution_count": 12
        }
      ],
      "source": [
        "# Finding minimum\n",
        "\n",
        "mini = np.min(newArray)\n",
        "mini"
      ]
    },
    {
      "cell_type": "code",
      "execution_count": 13,
      "id": "32a7d035",
      "metadata": {
        "colab": {
          "base_uri": "https://localhost:8080/"
        },
        "id": "32a7d035",
        "outputId": "d7361853-eec8-439e-a001-fd7082055a92"
      },
      "outputs": [
        {
          "output_type": "execute_result",
          "data": {
            "text/plain": [
              "45400"
            ]
          },
          "metadata": {},
          "execution_count": 13
        }
      ],
      "source": [
        "# Finding maximum\n",
        "\n",
        "maxi = np.max(newArray)\n",
        "maxi"
      ]
    },
    {
      "cell_type": "code",
      "execution_count": 14,
      "id": "6664472e",
      "metadata": {
        "colab": {
          "base_uri": "https://localhost:8080/"
        },
        "id": "6664472e",
        "outputId": "97a86adb-a8be-48b1-f760-1fbe60672cde"
      },
      "outputs": [
        {
          "output_type": "execute_result",
          "data": {
            "text/plain": [
              "7849.552632491599"
            ]
          },
          "metadata": {},
          "execution_count": 14
        }
      ],
      "source": [
        "#finding standard deviation\n",
        "std = np.std(newArray)\n",
        "std"
      ]
    },
    {
      "cell_type": "code",
      "execution_count": 15,
      "id": "4450576e",
      "metadata": {
        "colab": {
          "base_uri": "https://localhost:8080/"
        },
        "id": "4450576e",
        "outputId": "4ff191b8-7b2f-4992-91a5-702343c8b7a9"
      },
      "outputs": [
        {
          "output_type": "execute_result",
          "data": {
            "text/plain": [
              "array(['alfa-romero', 'audi', 'bmw', 'chevrolet', 'dodge', 'honda',\n",
              "       'isuzu', 'jaguar', 'mazda', 'mercedes-benz', 'mercury',\n",
              "       'mitsubishi', 'nissan', 'peugot', 'plymouth', 'porsche', 'renault',\n",
              "       'saab', 'subaru', 'toyota', 'volkswagen', 'volvo'], dtype=object)"
            ]
          },
          "metadata": {},
          "execution_count": 15
        }
      ],
      "source": [
        "makeArray = df_automobile['make'].to_numpy()\n",
        "makeArray = np.unique(makeArray)\n",
        "makeArray"
      ]
    },
    {
      "cell_type": "code",
      "execution_count": 19,
      "id": "6f2dfdac",
      "metadata": {
        "id": "6f2dfdac"
      },
      "outputs": [],
      "source": [
        "value_counts= df_automobile['make'].value_counts()"
      ]
    },
    {
      "cell_type": "code",
      "execution_count": 20,
      "id": "edd52422",
      "metadata": {
        "colab": {
          "base_uri": "https://localhost:8080/",
          "height": 423
        },
        "id": "edd52422",
        "outputId": "00cd5a62-c6c3-4b0b-e9a5-1d045b164106"
      },
      "outputs": [
        {
          "output_type": "execute_result",
          "data": {
            "text/plain": [
              "<function matplotlib.pyplot.show(close=None, block=None)>"
            ]
          },
          "metadata": {},
          "execution_count": 20
        },
        {
          "output_type": "display_data",
          "data": {
            "text/plain": [
              "<Figure size 640x480 with 1 Axes>"
            ],
            "image/png": "[encoded data removed]"
          },
          "metadata": {}
        }
      ],
      "source": [
        "plt.pie(value_counts.values,labels=value_counts.index)\n",
        "plt.show"
      ]
    }
  ],
  "metadata": {
    "kernelspec": {
      "display_name": "Python 3 (ipykernel)",
      "language": "python",
      "name": "python3"
    },
    "language_info": {
      "codemirror_mode": {
        "name": "ipython",
        "version": 3
      },
      "file_extension": ".py",
      "mimetype": "text/x-python",
      "name": "python",
      "nbconvert_exporter": "python",
      "pygments_lexer": "ipython3",
      "version": "3.8.10"
    },
    "colab": {
      "provenance": []
    }
  },
  "nbformat": 4,
  "nbformat_minor": 5
}