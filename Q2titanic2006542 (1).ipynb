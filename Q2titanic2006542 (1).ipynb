{
  "nbformat": 4,
  "nbformat_minor": 0,
  "metadata": {
    "colab": {
      "provenance": []
    },
    "kernelspec": {
      "name": "python3",
      "display_name": "Python 3"
    },
    "language_info": {
      "name": "python"
    }
  },
  "cells": [
    {
      "cell_type": "code",
      "execution_count": 2,
      "metadata": {
        "colab": {
          "base_uri": "https://localhost:8080/"
        },
        "id": "hdnQlXwqGbuJ",
        "outputId": "160b2189-800f-42e3-c704-0afbfdf2d67a"
      },
      "outputs": [
        {
          "output_type": "stream",
          "name": "stdout",
          "text": [
            "Number of survivors: 342\n",
            "Number of deaths: 549\n",
            "Survival rate: 38.38%\n",
            "Death rate: 61.62%\n",
            "Male survival rate: 18.89%\n",
            "Female survival rate: 74.20%\n",
            "Survival rate for passengers under 18 years old: 53.98%\n"
          ]
        }
      ],
      "source": [
        "import pandas as pd\n",
        "\n",
        "# Load the dataset\n",
        "df = pd.read_csv('training_titanic.csv')\n",
        "\n",
        "# Count the number of survivors\n",
        "survivors = df['Survived'].sum()\n",
        "\n",
        "# Count the number of deaths\n",
        "deaths = len(df) - survivors\n",
        "\n",
        "# Calculate the survival rates as proportions\n",
        "survival_rate = survivors / len(df) * 100\n",
        "death_rate = deaths / len(df) * 100\n",
        "\n",
        "# Calculate the number of males who survived and died\n",
        "male_survivors = df.loc[(df['Sex'] == 'male') & (df['Survived'] == 1), 'Survived'].count()\n",
        "male_deaths = df.loc[(df['Sex'] == 'male') & (df['Survived'] == 0), 'Survived'].count()\n",
        "\n",
        "# Calculate the number of females who survived and died\n",
        "female_survivors = df.loc[(df['Sex'] == 'female') & (df['Survived'] == 1), 'Survived'].count()\n",
        "female_deaths = df.loc[(df['Sex'] == 'female') & (df['Survived'] == 0), 'Survived'].count()\n",
        "\n",
        "# Calculate the survival rates for males and females\n",
        "male_survival_rate = male_survivors / (male_survivors + male_deaths) * 100\n",
        "female_survival_rate = female_survivors / (female_survivors + female_deaths) * 100\n",
        "\n",
        "# Check if age plays a role in survival rate\n",
        "age_survivors = df.loc[(df['Age'] < 18) & (df['Survived'] == 1), 'Survived'].count()\n",
        "age_deaths = df.loc[(df['Age'] < 18) & (df['Survived'] == 0), 'Survived'].count()\n",
        "age_survival_rate = age_survivors / (age_survivors + age_deaths) * 100\n",
        "\n",
        "# Print the results\n",
        "print(f\"Number of survivors: {survivors}\")\n",
        "print(f\"Number of deaths: {deaths}\")\n",
        "print(f\"Survival rate: {survival_rate:.2f}%\")\n",
        "print(f\"Death rate: {death_rate:.2f}%\")\n",
        "print(f\"Male survival rate: {male_survival_rate:.2f}%\")\n",
        "print(f\"Female survival rate: {female_survival_rate:.2f}%\")\n",
        "print(f\"Survival rate for passengers under 18 years old: {age_survival_rate:.2f}%\")"
      ]
    }
  ]
}