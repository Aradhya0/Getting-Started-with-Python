{
  "nbformat": 4,
  "nbformat_minor": 0,
  "metadata": {
    "colab": {
      "provenance": []
    },
    "kernelspec": {
      "name": "python3",
      "display_name": "Python 3"
    },
    "language_info": {
      "name": "python"
    }
  },
  "cells": [
    {
      "cell_type": "code",
      "execution_count": 3,
      "metadata": {
        "colab": {
          "base_uri": "https://localhost:8080/"
        },
        "id": "6IEY_GnFDZeb",
        "outputId": "a0b945f0-ea87-4e19-b790-071ef9d71679"
      },
      "outputs": [
        {
          "output_type": "stream",
          "name": "stdout",
          "text": [
            "Total sales for the day: $226.50\n"
          ]
        }
      ],
      "source": [
        "# Question 3\n",
        "\n",
        "\n",
        "class BigmartSales:\n",
        "    # Class variable to track total sales across all instances\n",
        "    total_sales = 0\n",
        "\n",
        "    def __init__(self, serial_number, name, amount_spend):\n",
        "        self.serial_number = serial_number\n",
        "        self.name = name\n",
        "        self.amount_spend = amount_spend\n",
        "        # Increment the total sales for the day with each new instance\n",
        "        BigmartSales.total_sales += amount_spend\n",
        "\n",
        "    def display_total_sales(self):\n",
        "        print(f\"Total sales for the day: ${BigmartSales.total_sales:.2f}\")\n",
        "\n",
        "# Example usage\n",
        "sale1 = BigmartSales(1, \"John Doe\", 50.75)\n",
        "sale2 = BigmartSales(2, \"Jane Smith\", 75.25)\n",
        "sale3 = BigmartSales(3, \"Bob Johnson\", 100.50)\n",
        "\n",
        "sale3.display_total_sales()"
      ]
    }
  ]
}