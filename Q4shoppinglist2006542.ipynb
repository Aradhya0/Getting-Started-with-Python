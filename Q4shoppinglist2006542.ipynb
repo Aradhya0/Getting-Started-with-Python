{
  "nbformat": 4,
  "nbformat_minor": 0,
  "metadata": {
    "colab": {
      "provenance": []
    },
    "kernelspec": {
      "name": "python3",
      "display_name": "Python 3"
    },
    "language_info": {
      "name": "python"
    }
  },
  "cells": [
    {
      "cell_type": "code",
      "execution_count": 2,
      "metadata": {
        "colab": {
          "base_uri": "https://localhost:8080/",
          "height": 0
        },
        "id": "J6-KMowvLdR0",
        "outputId": "fa33635f-51a4-4726-fb41-58afb187e8df"
      },
      "outputs": [
        {
          "output_type": "stream",
          "name": "stdout",
          "text": [
            "What should we pick up at the store?\n",
            "Enter 'DONE' to stop adding items.\n",
            "> fulgobi\n",
            "> bhindi\n",
            "> timatar\n",
            "> aloo\n",
            "> lassan\n",
            "> tarkari\n",
            "> garam masala\n",
            "> DONE\n",
            "Here's your list:\n",
            "fulgobi\n",
            "bhindi\n",
            "timatar\n",
            "aloo\n",
            "lassan\n",
            "tarkari\n",
            "garam masala\n"
          ]
        }
      ],
      "source": [
        "# Step 1: Make a list to hold onto our items.\n",
        "shopping_list = []\n",
        "\n",
        "# Step 2: Print out instructions on how to use the app.\n",
        "print(\"What should we pick up at the store?\")\n",
        "print(\"Enter 'DONE' to stop adding items.\")\n",
        "\n",
        "# Step 3: Ask for new items and Step 4: Add new items to our list.\n",
        "while True:\n",
        "    new_item = input(\"> \")\n",
        "    if new_item == \"DONE\":\n",
        "        break\n",
        "    shopping_list.append(new_item)\n",
        "\n",
        "# Step 6: Print out the list.\n",
        "print(\"Here's your list:\")\n",
        "for item in shopping_list:\n",
        "    print(item)"
      ]
    }
  ]
}