{
 "cells": [
  {
   "cell_type": "code",
   "execution_count": 1,
   "id": "141bf422",
   "metadata": {},
   "outputs": [
    {
     "name": "stdout",
     "output_type": "stream",
     "text": [
      "{'brand': 'maruti', 'model': 'swift', 'year': '2015'}\n"
     ]
    }
   ],
   "source": [
    "mydict={\n",
    "    \"brand\":\"maruti\",\n",
    "    \"model\":\"swift\",\n",
    "    \"year\":\"2015\"\n",
    "}\n",
    "print(mydict)"
   ]
  },
  {
   "cell_type": "code",
   "execution_count": 2,
   "id": "b95d6b83",
   "metadata": {},
   "outputs": [
    {
     "name": "stdout",
     "output_type": "stream",
     "text": [
      "{}\n"
     ]
    }
   ],
   "source": [
    "mydict={\n",
    "    \"brand\":\"maruti\",\n",
    "    \"model\":\"swift\",\n",
    "    \"year\":\"2015\"\n",
    "}\n",
    "mydict.clear()\n",
    "print(mydict)"
   ]
  },
  {
   "cell_type": "code",
   "execution_count": 3,
   "id": "1e5e73c5",
   "metadata": {},
   "outputs": [
    {
     "name": "stdout",
     "output_type": "stream",
     "text": [
      "brand\n",
      "model\n",
      "year\n"
     ]
    }
   ],
   "source": [
    "mydict={\n",
    "    \"brand\":\"maruti\",\n",
    "    \"model\":\"swift\",\n",
    "    \"year\":\"2015\"\n",
    "}\n",
    "for x in mydict:\n",
    "    print(x)"
   ]
  },
  {
   "cell_type": "code",
   "execution_count": 4,
   "id": "387ddbac",
   "metadata": {},
   "outputs": [
    {
     "name": "stdout",
     "output_type": "stream",
     "text": [
      "maruti\n",
      "swift\n",
      "2015\n"
     ]
    }
   ],
   "source": [
    "for x in mydict:\n",
    "    print(mydict[x])"
   ]
  },
  {
   "cell_type": "code",
   "execution_count": 5,
   "id": "47ed7e9a",
   "metadata": {},
   "outputs": [
    {
     "name": "stdout",
     "output_type": "stream",
     "text": [
      "brand maruti\n",
      "model swift\n",
      "year 2015\n"
     ]
    }
   ],
   "source": [
    "for x,y in mydict.items():\n",
    "    print(x,y)"
   ]
  },
  {
   "cell_type": "code",
   "execution_count": 6,
   "id": "67560deb",
   "metadata": {},
   "outputs": [
    {
     "name": "stdout",
     "output_type": "stream",
     "text": [
      "{'brand': 'maruti', 'model': 'swift', 'year': '2015'}\n"
     ]
    }
   ],
   "source": [
    "mydict2=mydict.copy()\n",
    "print(mydict2)"
   ]
  },
  {
   "cell_type": "code",
   "execution_count": 7,
   "id": "e4a0bbbd",
   "metadata": {},
   "outputs": [
    {
     "name": "stdout",
     "output_type": "stream",
     "text": [
      "{'child1': {'name': 'Aradhya', 'year': 2002}, 'child2': {'name': 'Anmol', 'year': 2001}}\n"
     ]
    }
   ],
   "source": [
    "myfamily = {\n",
    "    \"child1\" : {\n",
    "        \"name\": \"Aradhya\",\n",
    "        \"year\" : 2002\n",
    "    },\n",
    "    \"child2\" : {\n",
    "        \"name\": \"Anmol\",\n",
    "        \"year\": 2001\n",
    "    }\n",
    "}\n",
    "print(myfamily)"
   ]
  },
  {
   "cell_type": "code",
   "execution_count": null,
   "id": "5977cdbf",
   "metadata": {},
   "outputs": [],
   "source": []
  }
 ],
 "metadata": {
  "kernelspec": {
   "display_name": "Python 3 (ipykernel)",
   "language": "python",
   "name": "python3"
  },
  "language_info": {
   "codemirror_mode": {
    "name": "ipython",
    "version": 3
   },
   "file_extension": ".py",
   "mimetype": "text/x-python",
   "name": "python",
   "nbconvert_exporter": "python",
   "pygments_lexer": "ipython3",
   "version": "3.10.8"
  }
 },
 "nbformat": 4,
 "nbformat_minor": 5
}
