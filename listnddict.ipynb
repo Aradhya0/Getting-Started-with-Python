{
 "cells": [
  {
   "cell_type": "code",
   "execution_count": 2,
   "id": "06982740",
   "metadata": {},
   "outputs": [
    {
     "name": "stdout",
     "output_type": "stream",
     "text": [
      "['Data Analytics', 'Machine Learning', 'OPtimization Techniques', 'Cloud Computing', 'T&T lab', 'Artificial Intellegence']\n"
     ]
    }
   ],
   "source": [
    "list=[\"Data Analytics\", \"Machine Learning\", \"OPtimization Techniques\", \"Cloud Computing\", \"T&T lab\", \"Artificial Intellegence\"]\n",
    "print(list)"
   ]
  },
  {
   "cell_type": "code",
   "execution_count": 3,
   "id": "f397d499",
   "metadata": {},
   "outputs": [
    {
     "name": "stdout",
     "output_type": "stream",
     "text": [
      "['Artificial Intellegence', 'T&T lab', 'Cloud Computing', 'OPtimization Techniques', 'Machine Learning', 'Data Analytics']\n"
     ]
    }
   ],
   "source": [
    "list=[\"Data Analytics\", \"Machine Learning\", \"OPtimization Techniques\", \"Cloud Computing\", \"T&T lab\", \"Artificial Intellegence\"]\n",
    "list.reverse()\n",
    "print(list)"
   ]
  },
  {
   "cell_type": "code",
   "execution_count": 10,
   "id": "f0ebc43d",
   "metadata": {},
   "outputs": [
    {
     "name": "stdout",
     "output_type": "stream",
     "text": [
      "496\n",
      "82.66666666666667\n"
     ]
    }
   ],
   "source": [
    "marks = [97,90,78,99,88,44]\n",
    "res = sum(marks)\n",
    "avg = sum(marks)/len(marks)\n",
    "print(res)\n",
    "print(avg)\n"
   ]
  },
  {
   "cell_type": "code",
   "execution_count": 11,
   "id": "d1321e17",
   "metadata": {},
   "outputs": [
    {
     "name": "stdout",
     "output_type": "stream",
     "text": [
      "[44, 78, 88, 90, 97, 99]\n"
     ]
    }
   ],
   "source": [
    "marks = [97,90,78,99,88,44]\n",
    "marks.sort()\n",
    "print(marks)"
   ]
  },
  {
   "cell_type": "code",
   "execution_count": 27,
   "id": "b623a9ec",
   "metadata": {},
   "outputs": [
    {
     "name": "stdout",
     "output_type": "stream",
     "text": [
      "44\n"
     ]
    }
   ],
   "source": [
    "marks = [97,90,78,99,88,44]\n",
    "min = min(marks)\n",
    "print(maxi)"
   ]
  },
  {
   "cell_type": "code",
   "execution_count": 32,
   "id": "966338fe",
   "metadata": {},
   "outputs": [
    {
     "ename": "TypeError",
     "evalue": "'int' object is not callable",
     "output_type": "error",
     "traceback": [
      "\u001b[0;31m---------------------------------------------------------------------------\u001b[0m",
      "\u001b[0;31mTypeError\u001b[0m                                 Traceback (most recent call last)",
      "Cell \u001b[0;32mIn[32], line 2\u001b[0m\n\u001b[1;32m      1\u001b[0m marks \u001b[38;5;241m=\u001b[39m [\u001b[38;5;241m97\u001b[39m,\u001b[38;5;241m90\u001b[39m,\u001b[38;5;241m78\u001b[39m,\u001b[38;5;241m99\u001b[39m,\u001b[38;5;241m88\u001b[39m,\u001b[38;5;241m44\u001b[39m]\n\u001b[0;32m----> 2\u001b[0m prod \u001b[38;5;241m=\u001b[39m \u001b[38;5;28;43mmax\u001b[39;49m\u001b[43m(\u001b[49m\u001b[43mmarks\u001b[49m\u001b[43m)\u001b[49m\n\u001b[1;32m      3\u001b[0m \u001b[38;5;28mmax\u001b[39m \u001b[38;5;241m=\u001b[39m prod(marks)\n\u001b[1;32m      4\u001b[0m \u001b[38;5;28mprint\u001b[39m(\u001b[38;5;28mmax\u001b[39m)\n",
      "\u001b[0;31mTypeError\u001b[0m: 'int' object is not callable"
     ]
    }
   ],
   "source": [
    "marks = [97,90,78,99,88,44]\n",
    "prod = max(marks)\n",
    "max = prod(marks)\n",
    "print(max)"
   ]
  },
  {
   "cell_type": "code",
   "execution_count": 33,
   "id": "9238701f",
   "metadata": {},
   "outputs": [
    {
     "name": "stdout",
     "output_type": "stream",
     "text": [
      "88\n"
     ]
    }
   ],
   "source": [
    "marks = [97,90,78,99,88,44]\n",
    "print(marks[4])"
   ]
  },
  {
   "cell_type": "code",
   "execution_count": 34,
   "id": "52ff8e70",
   "metadata": {},
   "outputs": [
    {
     "name": "stdout",
     "output_type": "stream",
     "text": [
      "99\n"
     ]
    }
   ],
   "source": [
    "marks = [97,90,78,99,88,44]\n",
    "print(marks[3])"
   ]
  },
  {
   "cell_type": "code",
   "execution_count": 45,
   "id": "5b50bcc1",
   "metadata": {},
   "outputs": [
    {
     "name": "stdout",
     "output_type": "stream",
     "text": [
      "[90, 78, 99, 88, 44]\n"
     ]
    }
   ],
   "source": [
    "marks = [97,90,78,99,88,44]\n",
    "marks.remove(97)\n",
    "print(marks)"
   ]
  },
  {
   "cell_type": "code",
   "execution_count": 46,
   "id": "c9aa9684",
   "metadata": {},
   "outputs": [
    {
     "name": "stdout",
     "output_type": "stream",
     "text": [
      "[98, 90, 78, 99, 88, 44]\n"
     ]
    }
   ],
   "source": [
    "marks = [90,78,99,88,44]\n",
    "marks.insert(0,98)\n",
    "print(marks)\n"
   ]
  },
  {
   "cell_type": "code",
   "execution_count": 47,
   "id": "81d7b266",
   "metadata": {},
   "outputs": [
    {
     "name": "stdout",
     "output_type": "stream",
     "text": [
      "5\n"
     ]
    }
   ],
   "source": [
    "marks = [90,78,99,88,44]\n",
    "print(len(marks))"
   ]
  },
  {
   "cell_type": "code",
   "execution_count": 49,
   "id": "d620e3b7",
   "metadata": {},
   "outputs": [
    {
     "name": "stdout",
     "output_type": "stream",
     "text": [
      "5\n"
     ]
    }
   ],
   "source": [
    "marks = [90,78,99,88,44]\n",
    "print(len(marks))"
   ]
  },
  {
   "cell_type": "code",
   "execution_count": 51,
   "id": "7f3f7685",
   "metadata": {},
   "outputs": [
    {
     "name": "stdout",
     "output_type": "stream",
     "text": [
      "[90, 78, 99, 44]\n"
     ]
    }
   ],
   "source": [
    "marks = [90,78,99,88,44]\n",
    "marks.remove(88)\n",
    "print(marks)"
   ]
  },
  {
   "cell_type": "code",
   "execution_count": 55,
   "id": "86276a48",
   "metadata": {},
   "outputs": [
    {
     "ename": "TypeError",
     "evalue": "'int' object is not callable",
     "output_type": "error",
     "traceback": [
      "\u001b[0;31m---------------------------------------------------------------------------\u001b[0m",
      "\u001b[0;31mTypeError\u001b[0m                                 Traceback (most recent call last)",
      "Cell \u001b[0;32mIn[55], line 4\u001b[0m\n\u001b[1;32m      2\u001b[0m list2\u001b[38;5;241m=\u001b[39m[\u001b[38;5;124m\"\u001b[39m\u001b[38;5;124mxx\u001b[39m\u001b[38;5;124m\"\u001b[39m,\u001b[38;5;124m\"\u001b[39m\u001b[38;5;124myy\u001b[39m\u001b[38;5;124m\"\u001b[39m,\u001b[38;5;124m\"\u001b[39m\u001b[38;5;124mzz\u001b[39m\u001b[38;5;124m\"\u001b[39m]\n\u001b[1;32m      3\u001b[0m list3\u001b[38;5;241m=\u001b[39m[\u001b[38;5;124m\"\u001b[39m\u001b[38;5;124mff\u001b[39m\u001b[38;5;124m\"\u001b[39m,\u001b[38;5;124m\"\u001b[39m\u001b[38;5;124mtt\u001b[39m\u001b[38;5;124m\"\u001b[39m]\n\u001b[0;32m----> 4\u001b[0m maxlength \u001b[38;5;241m=\u001b[39m \u001b[38;5;28;43mmax\u001b[39;49m\u001b[43m(\u001b[49m\u001b[38;5;28;43mlen\u001b[39;49m\u001b[43m(\u001b[49m\u001b[43mlist1\u001b[49m\u001b[43m)\u001b[49m\u001b[43m,\u001b[49m\u001b[38;5;28;43mlen\u001b[39;49m\u001b[43m(\u001b[49m\u001b[43mlist2\u001b[49m\u001b[43m)\u001b[49m\u001b[43m,\u001b[49m\u001b[38;5;28;43mlen\u001b[39;49m\u001b[43m(\u001b[49m\u001b[43mlist3\u001b[49m\u001b[43m)\u001b[49m\u001b[43m)\u001b[49m\n\u001b[1;32m      5\u001b[0m \u001b[38;5;28mprint\u001b[39m(maxlength)\n",
      "\u001b[0;31mTypeError\u001b[0m: 'int' object is not callable"
     ]
    }
   ],
   "source": [
    "list1=[\"aa\",\"bb\",\"cc\",\"dd\"]\n",
    "list2=[\"xx\",\"yy\",\"zz\"]\n",
    "list3=[\"ff\",\"tt\"]\n",
    "maxlength = max(len(list1),len(list2),len(list3))\n",
    "print(maxlength)"
   ]
  },
  {
   "cell_type": "code",
   "execution_count": 56,
   "id": "21406c50",
   "metadata": {},
   "outputs": [
    {
     "name": "stdout",
     "output_type": "stream",
     "text": [
      "The original list : ['hello', 'world', 'my', 'name', 'is', 'aradhya']\n",
      "longest string : aradhya\n"
     ]
    }
   ],
   "source": [
    "test_list = ['hello','world','my','name','is','aradhya']\n",
    "  \n",
    "\n",
    "print(\"The original list : \" + str(test_list))\n",
    "  \n",
    "\n",
    "max_len = -1\n",
    "for ele in test_list:\n",
    "    if len(ele) > max_len:\n",
    "        max_len = len(ele)\n",
    "        res = ele\n",
    "  \n",
    "\n",
    "print(\"longest string : \" + res)"
   ]
  },
  {
   "cell_type": "code",
   "execution_count": 63,
   "id": "315e958f",
   "metadata": {},
   "outputs": [
    {
     "name": "stdout",
     "output_type": "stream",
     "text": [
      "8100\n",
      "6084\n",
      "9801\n",
      "7744\n",
      "1936\n"
     ]
    }
   ],
   "source": [
    "nums = [90,78,99,88,44]\n",
    "for i in nums:\n",
    "    print(i**2)"
   ]
  },
  {
   "cell_type": "code",
   "execution_count": 64,
   "id": "2b22078f",
   "metadata": {},
   "outputs": [
    {
     "name": "stdout",
     "output_type": "stream",
     "text": [
      "8100\n",
      "6084\n",
      "9801\n",
      "7744\n",
      "1936\n"
     ]
    }
   ],
   "source": [
    "nums = [90,78,99,88,44]\n",
    "for i in nums:\n",
    "    print(pow(i,2))"
   ]
  },
  {
   "cell_type": "code",
   "execution_count": 76,
   "id": "0c4ad889",
   "metadata": {},
   "outputs": [
    {
     "ename": "TypeError",
     "evalue": "unsupported operand type(s) for %: 'list' and 'int'",
     "output_type": "error",
     "traceback": [
      "\u001b[0;31m---------------------------------------------------------------------------\u001b[0m",
      "\u001b[0;31mTypeError\u001b[0m                                 Traceback (most recent call last)",
      "Cell \u001b[0;32mIn[76], line 3\u001b[0m\n\u001b[1;32m      1\u001b[0m nums \u001b[38;5;241m=\u001b[39m [\u001b[38;5;241m90\u001b[39m,\u001b[38;5;241m78\u001b[39m,\u001b[38;5;241m99\u001b[39m,\u001b[38;5;241m88\u001b[39m,\u001b[38;5;241m44\u001b[39m]\n\u001b[1;32m      2\u001b[0m \u001b[38;5;28;01mfor\u001b[39;00m i \u001b[38;5;129;01min\u001b[39;00m nums:\n\u001b[0;32m----> 3\u001b[0m     \u001b[38;5;28;01mif\u001b[39;00m \u001b[43mnums\u001b[49m\u001b[43m \u001b[49m\u001b[38;5;241;43m%\u001b[39;49m\u001b[43m \u001b[49m\u001b[38;5;241;43m2\u001b[39;49m \u001b[38;5;241m==\u001b[39m \u001b[38;5;241m0\u001b[39m:\n\u001b[1;32m      4\u001b[0m         \u001b[38;5;28mprint\u001b[39m(\u001b[38;5;124m\"\u001b[39m\u001b[38;5;124meven\u001b[39m\u001b[38;5;124m\"\u001b[39m)\n",
      "\u001b[0;31mTypeError\u001b[0m: unsupported operand type(s) for %: 'list' and 'int'"
     ]
    }
   ],
   "source": [
    "nums = [90,78,99,88,44]\n",
    "for i in nums:\n",
    "    if nums % 2 == 0:\n",
    "        print(\"even\")\n",
    "       \n",
    "         \n",
    "   "
   ]
  },
  {
   "cell_type": "code",
   "execution_count": 77,
   "id": "6a68963f",
   "metadata": {},
   "outputs": [
    {
     "name": "stdout",
     "output_type": "stream",
     "text": [
      "['aradhya', 'hello', 'how', 'are', 'you', '?']\n"
     ]
    }
   ],
   "source": [
    "list1=[\"aradhya\",\"hello\",\"how\"]\n",
    "touple1=(\"are\",\"you\",\"?\")\n",
    "list1.extend(touple1)\n",
    "print(list1)"
   ]
  },
  {
   "cell_type": "code",
   "execution_count": 78,
   "id": "f924622a",
   "metadata": {},
   "outputs": [
    {
     "name": "stdout",
     "output_type": "stream",
     "text": [
      "[98, 90, 78, 99, 88, 44]\n"
     ]
    }
   ],
   "source": [
    "marks = [90,78,99,88,44]\n",
    "marks.insert(0,98)\n",
    "print(marks)\n"
   ]
  },
  {
   "cell_type": "code",
   "execution_count": 79,
   "id": "62f9fe3e",
   "metadata": {},
   "outputs": [
    {
     "name": "stdout",
     "output_type": "stream",
     "text": [
      "[90, 78, 99, 88, 44, 98]\n"
     ]
    }
   ],
   "source": [
    "marks = [90,78,99,88,44]\n",
    "marks.append(98)\n",
    "print(marks)\n"
   ]
  },
  {
   "cell_type": "code",
   "execution_count": 81,
   "id": "0b6b8e56",
   "metadata": {},
   "outputs": [
    {
     "name": "stdout",
     "output_type": "stream",
     "text": [
      "[24, 35, 9, 56, 12]\n"
     ]
    }
   ],
   "source": [
    "newList = [12, 35, 9, 56, 24]\n",
    "\n",
    "def swapList(newList):\n",
    "     \n",
    "    newList[0], newList[-1] = newList[-1], newList[0]\n",
    " \n",
    "    return newList\n",
    "     \n",
    "\n",
    "\n",
    "print(swapList(newList))"
   ]
  },
  {
   "cell_type": "code",
   "execution_count": 84,
   "id": "6dadc876",
   "metadata": {},
   "outputs": [
    {
     "name": "stdout",
     "output_type": "stream",
     "text": [
      "Enter the size of list: 3\n",
      "Enter 3 elements: 1\n",
      "2\n",
      "3\n",
      "\n",
      "The list is:\n",
      "['1', '2', '3']\n",
      "\n",
      "Enter an element to search: 4\n",
      "\n",
      "It is not available in the list\n"
     ]
    }
   ],
   "source": [
    "print(\"Enter the size of list: \", end=\"\")\n",
    "tot = int(input())\n",
    "print(\"Enter\", tot, \"elements: \", end=\"\")\n",
    "x = []\n",
    "for i in range(tot):\n",
    "    x.append(input())\n",
    "\n",
    "print(\"\\nThe list is:\")\n",
    "print(x)\n",
    "\n",
    "print(\"\\nEnter an element to search: \", end=\"\")\n",
    "element = input()\n",
    "if element in x:\n",
    "    print(\"\\nIt is available in the list\")\n",
    "else:\n",
    "    print(\"\\nIt is not available in the list\")"
   ]
  },
  {
   "cell_type": "code",
   "execution_count": 88,
   "id": "a581fc9c",
   "metadata": {},
   "outputs": [
    {
     "name": "stdout",
     "output_type": "stream",
     "text": [
      "[90, 78, 88, 44]\n"
     ]
    }
   ],
   "source": [
    "marks = [90,78,99,88,44]\n",
    "marks.pop(2)\n",
    "print(marks)"
   ]
  },
  {
   "cell_type": "code",
   "execution_count": null,
   "id": "5da75d9a",
   "metadata": {},
   "outputs": [],
   "source": []
  }
 ],
 "metadata": {
  "kernelspec": {
   "display_name": "Python 3 (ipykernel)",
   "language": "python",
   "name": "python3"
  },
  "language_info": {
   "codemirror_mode": {
    "name": "ipython",
    "version": 3
   },
   "file_extension": ".py",
   "mimetype": "text/x-python",
   "name": "python",
   "nbconvert_exporter": "python",
   "pygments_lexer": "ipython3",
   "version": "3.10.8"
  }
 },
 "nbformat": 4,
 "nbformat_minor": 5
}
