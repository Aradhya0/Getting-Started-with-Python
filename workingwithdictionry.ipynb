{
 "cells": [
  {
   "cell_type": "code",
   "execution_count": 31,
   "id": "dfea11bf",
   "metadata": {},
   "outputs": [
    {
     "name": "stdout",
     "output_type": "stream",
     "text": [
      "{'Amar': 9.1, 'Akbar': 6.7, 'Anthony': 9.6}\n"
     ]
    }
   ],
   "source": [
    "#convert two lists into a dict\n",
    "list1 = [\"Amar\",\"Akbar\",\"Anthony\"]\n",
    "list2 = [9.1,6.7,9.6]\n",
    "dict1= dict(zip(list1,list2))\n",
    "print(dict1)"
   ]
  },
  {
   "cell_type": "code",
   "execution_count": 32,
   "id": "37c4ee98",
   "metadata": {},
   "outputs": [
    {
     "name": "stdout",
     "output_type": "stream",
     "text": [
      "{'name': 'Amar', 'cgpa': 9.1, 'gender': 'male', 'roll-no.': 2006542}\n"
     ]
    }
   ],
   "source": [
    "#merge two dict into one\n",
    "dict1 = {\n",
    "    \"name\":\"Amar\",\n",
    "    \"cgpa\": 9.1\n",
    "}\n",
    "dict2 = {\n",
    "    \"gender\": \"male\",\n",
    "    \"roll-no.\": 2006542\n",
    "}\n",
    "dict3 = {**dict1, **dict2}\n",
    "print(dict3)"
   ]
  },
  {
   "cell_type": "code",
   "execution_count": null,
   "id": "ff680d63",
   "metadata": {},
   "outputs": [],
   "source": []
  },
  {
   "cell_type": "code",
   "execution_count": 6,
   "id": "3191bef3",
   "metadata": {},
   "outputs": [
    {
     "name": "stdout",
     "output_type": "stream",
     "text": [
      "99\n"
     ]
    }
   ],
   "source": [
    "#print the value of key \"history\" from below dict\n",
    "dict1 = {\n",
    "    \"History\": 99,\n",
    "    \"Civics\": 97,\n",
    "    \"Maths\": 34\n",
    "}\n",
    "x = dict1.get(\"History\")\n",
    "print(x)"
   ]
  },
  {
   "cell_type": "code",
   "execution_count": 33,
   "id": "eb99e08f",
   "metadata": {},
   "outputs": [
    {
     "name": "stdout",
     "output_type": "stream",
     "text": [
      "{'Amar': {'designation': 'Developer', 'salary': 800}, 'akbar': {'designation': 'Developer', 'salary': 800}}\n",
      "{'designation': 'Developer', 'salary': 800}\n"
     ]
    }
   ],
   "source": [
    "#initialize dictionary with default valuessample_dict = {\n",
    "employees = ['Amar', 'akbar']\n",
    "defaults = {\"designation\": 'Developer', \"salary\": 800}\n",
    "\n",
    "res = dict.fromkeys(employees, defaults)\n",
    "print(res)\n",
    "\n",
    "# Individual data\n",
    "print(res[\"Amar\"])"
   ]
  },
  {
   "cell_type": "code",
   "execution_count": null,
   "id": "df4e927c",
   "metadata": {},
   "outputs": [],
   "source": []
  },
  {
   "cell_type": "code",
   "execution_count": null,
   "id": "7acb3ede",
   "metadata": {},
   "outputs": [],
   "source": []
  },
  {
   "cell_type": "code",
   "execution_count": 34,
   "id": "9e8d0960",
   "metadata": {},
   "outputs": [
    {
     "name": "stdout",
     "output_type": "stream",
     "text": [
      "{'name': 'amar', 'salary': 800}\n"
     ]
    }
   ],
   "source": [
    "#Create a dictionary by extracting the keys from a given dictionary\n",
    "sampleDict = { \n",
    "  \"name\": \"amar\",\n",
    "  \"age\":21, \n",
    "  \"salary\": 800, \n",
    "  \"city\": \"jannat\" }\n",
    "\n",
    "keys = [\"name\", \"salary\"]\n",
    "\n",
    "newDict = {k: sampleDict[k] for k in keys}\n",
    "print(newDict)"
   ]
  },
  {
   "cell_type": "code",
   "execution_count": 35,
   "id": "3e3582ad",
   "metadata": {},
   "outputs": [
    {
     "name": "stdout",
     "output_type": "stream",
     "text": [
      "{'age': 21, 'city': 'jannat'}\n"
     ]
    }
   ],
   "source": [
    "#Delete a list of keys from a dictionary\n",
    "sample_dict = {\n",
    "    \"name\": \"Amar\",\n",
    "    \"age\": 21,\n",
    "    \"salary\": 800,\n",
    "    \"city\": \"jannat\"\n",
    "}\n",
    "# Keys to remove\n",
    "keys = [\"name\", \"salary\"]\n",
    "\n",
    "for k in keys:\n",
    "    sample_dict.pop(k)\n",
    "print(sample_dict)"
   ]
  },
  {
   "cell_type": "code",
   "execution_count": 16,
   "id": "4b94522b",
   "metadata": {},
   "outputs": [
    {
     "name": "stdout",
     "output_type": "stream",
     "text": [
      "200 present in a dict\n"
     ]
    }
   ],
   "source": [
    "#Check if a value exists in a dictionary\n",
    "sample_dict = {'a': 100, 'b': 200, 'c': 300}\n",
    "if 200 in sample_dict.values():\n",
    "    print('200 present in a dict')"
   ]
  },
  {
   "cell_type": "code",
   "execution_count": 36,
   "id": "1d522cc0",
   "metadata": {},
   "outputs": [
    {
     "name": "stdout",
     "output_type": "stream",
     "text": [
      "{'name': 'Amar', 'age': 21, 'salary': 800, 'location': 'jannat'}\n"
     ]
    }
   ],
   "source": [
    "#Rename key of a dictionary\n",
    "sample_dict = {\n",
    "    \"name\": \"Amar\",\n",
    "    \"age\": 21,\n",
    "    \"salary\": 800,\n",
    "    \"city\": \"jannat\"\n",
    "}\n",
    "\n",
    "sample_dict['location'] = sample_dict.pop('city')\n",
    "print(sample_dict)"
   ]
  },
  {
   "cell_type": "code",
   "execution_count": 18,
   "id": "3032df64",
   "metadata": {},
   "outputs": [
    {
     "name": "stdout",
     "output_type": "stream",
     "text": [
      "Math\n"
     ]
    }
   ],
   "source": [
    "#Get the key of a minimum value from the following dictionary\n",
    "sample_dict = {\n",
    "    'Physics': 82,\n",
    "    'Math': 65,\n",
    "    'history': 75\n",
    "}\n",
    "print(min(sample_dict, key=sample_dict.get))"
   ]
  },
  {
   "cell_type": "code",
   "execution_count": 37,
   "id": "ba5f6545",
   "metadata": {},
   "outputs": [
    {
     "name": "stdout",
     "output_type": "stream",
     "text": [
      "{'emp1': {'name': 'Amar', 'salary': 7500}, 'emp2': {'name': 'Akbar', 'salary': 8000}, 'emp3': {'name': 'Anthony', 'salary': 8500}}\n"
     ]
    }
   ],
   "source": [
    "#Change value of a key in a nested dictionary\n",
    "sample_dict = {\n",
    "    'emp1': {'name': 'Amar', 'salary': 7500},\n",
    "    'emp2': {'name': 'Akbar', 'salary': 8000},\n",
    "    'emp3': {'name': 'Anthony', 'salary': 6500}\n",
    "}\n",
    "\n",
    "sample_dict['emp3']['salary'] = 8500\n",
    "print(sample_dict)"
   ]
  },
  {
   "cell_type": "code",
   "execution_count": 20,
   "id": "51720c79",
   "metadata": {},
   "outputs": [
    {
     "name": "stdout",
     "output_type": "stream",
     "text": [
      "(50, 40, 30, 20, 10)\n"
     ]
    }
   ],
   "source": [
    "#Reverse the tuple\n",
    "tuple1 = (10, 20, 30, 40, 50)\n",
    "tuple1 = tuple1[::-1]\n",
    "print(tuple1)"
   ]
  },
  {
   "cell_type": "code",
   "execution_count": 21,
   "id": "c0b40ed1",
   "metadata": {},
   "outputs": [
    {
     "name": "stdout",
     "output_type": "stream",
     "text": [
      "20\n"
     ]
    }
   ],
   "source": [
    "#Access value 20 from the tuple\n",
    "tuple1 = (\"Orange\", [10, 20, 30], (5, 15, 25))\n",
    "\n",
    "print(tuple1[1][1])"
   ]
  },
  {
   "cell_type": "code",
   "execution_count": 23,
   "id": "a3d8466c",
   "metadata": {},
   "outputs": [
    {
     "name": "stdout",
     "output_type": "stream",
     "text": [
      "50\n"
     ]
    }
   ],
   "source": [
    "#Create a tuple with single item 50\n",
    "tuple1= (50)\n",
    "print(tuple1)"
   ]
  },
  {
   "cell_type": "code",
   "execution_count": 24,
   "id": "9f38f553",
   "metadata": {},
   "outputs": [
    {
     "name": "stdout",
     "output_type": "stream",
     "text": [
      "10\n",
      "20\n",
      "30\n",
      "40\n"
     ]
    }
   ],
   "source": [
    "#Unpack the tuple into 4 variables\n",
    "tuple1 = (10, 20, 30, 40)\n",
    "\n",
    "# unpack tuple into 4 variables\n",
    "a, b, c, d = tuple1\n",
    "print(a)\n",
    "print(b)\n",
    "print(c)\n",
    "print(d)"
   ]
  },
  {
   "cell_type": "code",
   "execution_count": 25,
   "id": "19bb7e37",
   "metadata": {},
   "outputs": [
    {
     "name": "stdout",
     "output_type": "stream",
     "text": [
      "(11, 22)\n",
      "(99, 88)\n"
     ]
    }
   ],
   "source": [
    "#Swap two tuples in Python\n",
    "tuple1 = (11, 22)\n",
    "tuple2 = (99, 88)\n",
    "tuple1, tuple2 = tuple2, tuple1\n",
    "print(tuple2)\n",
    "print(tuple1)"
   ]
  },
  {
   "cell_type": "code",
   "execution_count": 26,
   "id": "813ffca1",
   "metadata": {},
   "outputs": [
    {
     "name": "stdout",
     "output_type": "stream",
     "text": [
      "(44, 55)\n"
     ]
    }
   ],
   "source": [
    "#Copy specific elements from one tuple to a new tuple\n",
    "tuple1 = (11, 22, 33, 44, 55, 66)\n",
    "tuple2 = tuple1[3:-1]\n",
    "print(tuple2)"
   ]
  },
  {
   "cell_type": "code",
   "execution_count": 27,
   "id": "21aa3ca0",
   "metadata": {},
   "outputs": [
    {
     "name": "stdout",
     "output_type": "stream",
     "text": [
      "(11, [222, 33], 44, 55)\n"
     ]
    }
   ],
   "source": [
    "#Modify the tuple\n",
    "tuple1 = (11, [22, 33], 44, 55)\n",
    "tuple1[1][0] = 222\n",
    "print(tuple1)"
   ]
  },
  {
   "cell_type": "code",
   "execution_count": 28,
   "id": "b1872457",
   "metadata": {},
   "outputs": [
    {
     "name": "stdout",
     "output_type": "stream",
     "text": [
      "(('c', 11), ('a', 23), ('d', 29), ('b', 37))\n"
     ]
    }
   ],
   "source": [
    "#Sort a tuple of tuples by 2nd item\n",
    "tuple1 = (('a', 23), ('b', 37), ('c', 11), ('d', 29))\n",
    "tuple1 = tuple(sorted(list(tuple1), key=lambda x: x[1]))\n",
    "print(tuple1)"
   ]
  },
  {
   "cell_type": "code",
   "execution_count": 29,
   "id": "2b527f4f",
   "metadata": {},
   "outputs": [
    {
     "name": "stdout",
     "output_type": "stream",
     "text": [
      "2\n"
     ]
    }
   ],
   "source": [
    "#Counts the number of occurrences of item 50 from a tuple\n",
    "tuple1 = (50, 10, 60, 70, 50)\n",
    "print(tuple1.count(50))"
   ]
  },
  {
   "cell_type": "code",
   "execution_count": 30,
   "id": "4ec9f93f",
   "metadata": {},
   "outputs": [
    {
     "name": "stdout",
     "output_type": "stream",
     "text": [
      "True\n"
     ]
    }
   ],
   "source": [
    "#Check if all items in the tuple are the same\n",
    "def check(t):\n",
    "    return all(i == t[0] for i in t)\n",
    "\n",
    "tuple1 = (45, 45, 45, 45)\n",
    "print(check(tuple1))"
   ]
  },
  {
   "cell_type": "code",
   "execution_count": null,
   "id": "93a4f8f7",
   "metadata": {},
   "outputs": [],
   "source": []
  }
 ],
 "metadata": {
  "kernelspec": {
   "display_name": "Python 3 (ipykernel)",
   "language": "python",
   "name": "python3"
  },
  "language_info": {
   "codemirror_mode": {
    "name": "ipython",
    "version": 3
   },
   "file_extension": ".py",
   "mimetype": "text/x-python",
   "name": "python",
   "nbconvert_exporter": "python",
   "pygments_lexer": "ipython3",
   "version": "3.10.8"
  }
 },
 "nbformat": 4,
 "nbformat_minor": 5
}
